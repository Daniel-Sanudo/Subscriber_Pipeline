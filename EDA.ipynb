{
 "cells": [
  {
   "cell_type": "code",
   "execution_count": 1,
   "id": "4b142196",
   "metadata": {},
   "outputs": [],
   "source": [
    "import sqlite3\n",
    "import os\n",
    "import pandas as pd\n",
    "from pyspark.sql import SparkSession\n",
    "import pyspark.sql.functions as f"
   ]
  },
  {
   "cell_type": "code",
   "execution_count": 2,
   "id": "1e883946",
   "metadata": {},
   "outputs": [],
   "source": [
    "# Create connection to the database file and the cursor to manage it \n",
    "con = sqlite3.connect(os.path.join('dev','cademycode.db'))\n",
    "cur = con.cursor()"
   ]
  },
  {
   "cell_type": "code",
   "execution_count": 3,
   "id": "3b545e88",
   "metadata": {},
   "outputs": [
    {
     "name": "stdout",
     "output_type": "stream",
     "text": [
      "[('cademycode_students',), ('cademycode_courses',), ('cademycode_student_jobs',)]\n"
     ]
    }
   ],
   "source": [
    "# Store the table names from the database\n",
    "table_names = cur.execute('''SELECT name FROM sqlite_master''').fetchall()\n",
    "print(table_names)"
   ]
  },
  {
   "cell_type": "code",
   "execution_count": 4,
   "id": "e21d216e",
   "metadata": {},
   "outputs": [],
   "source": [
    "# Create spark session\n",
    "spark = SparkSession.builder.appName('EDA').getOrCreate()"
   ]
  },
  {
   "cell_type": "code",
   "execution_count": 5,
   "id": "25e5f98b",
   "metadata": {
    "scrolled": true
   },
   "outputs": [
    {
     "name": "stdout",
     "output_type": "stream",
     "text": [
      "+----+--------------------+----------+---+--------------------+------+-------------+--------------+-----------+\n",
      "|uuid|                name| birthdate|sex|        contact_info|job_id|courses_count|career_path_id|hours_spent|\n",
      "+----+--------------------+----------+---+--------------------+------+-------------+--------------+-----------+\n",
      "|   1|     Annabelle Avery|1943-07-03|  F|{\"mailing_address...|   7.0|          6.0|           1.0|       4.99|\n",
      "|   2|         Micah Rubio|1991-02-07|  M|{\"mailing_address...|   7.0|          5.0|           8.0|        4.4|\n",
      "|   3|          Hosea Dale|1989-12-07|  M|{\"mailing_address...|   7.0|          8.0|           8.0|       6.74|\n",
      "|   4|        Mariann Kirk|1988-07-31|  F|{\"mailing_address...|   6.0|          7.0|           9.0|      12.31|\n",
      "|   5|     Lucio Alexander|1963-08-31|  M|{\"mailing_address...|   7.0|         14.0|           3.0|       5.64|\n",
      "|   6|    Shavonda Mcmahon|1989-10-15|  F|{\"mailing_address...|   6.0|         10.0|           3.0|      10.12|\n",
      "|   7| Terrell Bleijenberg|1959-05-05|  M|{\"mailing_address...|   2.0|          9.0|           8.0|      24.17|\n",
      "|   8|      Stanford Allan|1997-11-22|  M|{\"mailing_address...|   3.0|          3.0|           1.0|      19.54|\n",
      "|   9|     Tricia Delacruz|1961-10-20|  F|{\"mailing_address...|   1.0|          6.0|           9.0|       1.75|\n",
      "|  10|Regenia van der Helm|1999-02-23|  N|{\"mailing_address...|   5.0|          7.0|           6.0|      13.55|\n",
      "|  11|    Shonda Stephanin|1998-10-24|  F|{\"mailing_address...|   7.0|          5.0|          10.0|      12.61|\n",
      "|  12|    Marcus Mcfarland|1977-05-29|  M|{\"mailing_address...|   7.0|          3.0|           6.0|       9.12|\n",
      "|  13|   Edwardo Boonzayer|1975-05-23|  N|{\"mailing_address...|   2.0|         15.0|           5.0|       6.09|\n",
      "|  14|      Robena Padilla|1969-01-15|  F|{\"mailing_address...|   3.0|          5.0|           9.0|      15.92|\n",
      "|  15|        Tamala Sears|1942-06-01|  F|{\"mailing_address...|   7.0|         13.0|           1.0|       4.64|\n",
      "|  16|       Norene Dalton|1976-04-30|  F|{\"mailing_address...|   6.0|          0.0|          null|       null|\n",
      "|  17|      Maris Benskoop|1965-08-10|  F|{\"mailing_address...|   5.0|          5.0|           4.0|      12.08|\n",
      "|  18|    Yolande van Hees|1978-12-09|  F|{\"mailing_address...|   7.0|         13.0|           9.0|      34.44|\n",
      "|  19|      Dominic Werner|1973-09-29|  M|{\"mailing_address...|   5.0|         14.0|           8.0|      22.84|\n",
      "|  20|Sofia van Steenbe...|1990-02-21|  N|{\"mailing_address...|   7.0|         13.0|          null|       null|\n",
      "+----+--------------------+----------+---+--------------------+------+-------------+--------------+-----------+\n",
      "only showing top 20 rows\n",
      "\n",
      "[('uuid', 'bigint'), ('name', 'string'), ('birthdate', 'string'), ('sex', 'string'), ('contact_info', 'string'), ('job_id', 'string'), ('courses_count', 'string'), ('career_path_id', 'string'), ('hours_spent', 'string')]\n"
     ]
    }
   ],
   "source": [
    "student_columns = ['uuid', 'name', 'birthdate', \n",
    "                   'sex', 'contact_info', 'job_id', \n",
    "                   'courses_count', 'career_path_id', 'hours_spent']\n",
    "student_df = spark.createDataFrame(cur.execute('''SELECT * FROM cademycode_students''').fetchall(),student_columns)\n",
    "student_df.show()\n",
    "print(student_df.dtypes)"
   ]
  },
  {
   "cell_type": "code",
   "execution_count": 6,
   "id": "8f631f2c",
   "metadata": {},
   "outputs": [
    {
     "name": "stdout",
     "output_type": "stream",
     "text": [
      "+--------------+--------------------+-----------------+\n",
      "|career_path_id|    career_path_name|hours_to_complete|\n",
      "+--------------+--------------------+-----------------+\n",
      "|             1|      data scientist|               20|\n",
      "|             2|       data engineer|               20|\n",
      "|             3|        data analyst|               12|\n",
      "|             4|software engineering|               25|\n",
      "|             5|    backend engineer|               18|\n",
      "|             6|   frontend engineer|               20|\n",
      "|             7|       iOS developer|               27|\n",
      "|             8|   android developer|               27|\n",
      "|             9|machine learning ...|               35|\n",
      "|            10|      ux/ui designer|               15|\n",
      "+--------------+--------------------+-----------------+\n",
      "\n",
      "[('career_path_id', 'bigint'), ('career_path_name', 'string'), ('hours_to_complete', 'bigint')]\n"
     ]
    }
   ],
   "source": [
    "course_columns = ['career_path_id', 'career_path_name', 'hours_to_complete']\n",
    "course_df = spark.createDataFrame(cur.execute('''SELECT * FROM cademycode_courses''').fetchall(),course_columns)\n",
    "course_df.show()\n",
    "print(course_df.dtypes)"
   ]
  },
  {
   "cell_type": "code",
   "execution_count": 10,
   "id": "b94ba4bc",
   "metadata": {
    "scrolled": true
   },
   "outputs": [
    {
     "name": "stdout",
     "output_type": "stream",
     "text": [
      "+------+------------------+----------+\n",
      "|job_id|      job_category|avg_salary|\n",
      "+------+------------------+----------+\n",
      "|     1|         analytics|     86000|\n",
      "|     2|          engineer|    101000|\n",
      "|     3|software developer|    110000|\n",
      "|     4|          creative|     66000|\n",
      "|     5|financial services|    135000|\n",
      "|     6|         education|     61000|\n",
      "|     7|                HR|     80000|\n",
      "|     8|           student|     10000|\n",
      "|     9|        healthcare|    120000|\n",
      "|     0|             other|     80000|\n",
      "|     3|software developer|    110000|\n",
      "|     4|          creative|     66000|\n",
      "|     5|financial services|    135000|\n",
      "+------+------------------+----------+\n",
      "\n",
      "[('job_id', 'bigint'), ('job_category', 'string'), ('avg_salary', 'bigint')]\n"
     ]
    }
   ],
   "source": [
    "job_columns = ['job_id', 'job_category', 'avg_salary']\n",
    "job_df = spark.createDataFrame(cur.execute('''SELECT * FROM cademycode_student_jobs''').fetchall(),job_columns)\n",
    "job_df.show()\n",
    "print(job_df.dtypes)"
   ]
  },
  {
   "cell_type": "markdown",
   "id": "d6398be4",
   "metadata": {},
   "source": [
    "The following steps will be needed to clean the data\n",
    "1. Extract the email and address for each student stores inside the _5 column dictionaries\n",
    "2. Check for null values in the dataframes\n",
    "3. Change dtype for the student_df dataframe to the following:\n",
    "    * birthdate which is a date type format to a datetime dtype\n",
    "    * Columns 'job_id', 'courses_count', 'career_path_id', 'hours_spent' from string to float\n",
    "4. Remove duplicates from all dataframes"
   ]
  },
  {
   "cell_type": "markdown",
   "id": "a25b9503",
   "metadata": {},
   "source": [
    "## student_df noncontextual transformations\n",
    "This section will explode the json from the contact_info column into two different columns into a new dataframe named studend_address_df, from it, 2 new columns called city and state will be extracted"
   ]
  },
  {
   "cell_type": "code",
   "execution_count": 8,
   "id": "60e2a67f",
   "metadata": {},
   "outputs": [
    {
     "name": "stdout",
     "output_type": "stream",
     "text": [
      "+--------------------+--------------------+\n",
      "|     mailing_address|       email_address|\n",
      "+--------------------+--------------------+\n",
      "|303 N Timber Key,...|annabelle_avery93...|\n",
      "|767 Crescent Fair...| rubio6772@hmail.com|\n",
      "|P.O. Box 41269, S...|hosea_dale8084@co...|\n",
      "|517 SE Wintergree...|  kirk4005@hmail.com|\n",
      "|18 Cinder Cliff, ...|alexander9810@hma...|\n",
      "|P.O. Box 81591, T...|shavonda5863@cold...|\n",
      "|P.O. Box 53471, O...|bleijenberg188@hm...|\n",
      "|255 Spring Avenue...|stanford_allan805...|\n",
      "|997 Dewy Apple, L...|tricia_delacruz66...|\n",
      "|220 Middle Ridge,...|regenia6908@inloo...|\n",
      "|818 Clear Street,...|shonda_stephanin4...|\n",
      "|718 Embers Lane, ...|mcfarland1396@woo...|\n",
      "|147 SW Plain, Sol...|edwardo8281@inloo...|\n",
      "|P.O. Box 73926, M...|robena_padilla147...|\n",
      "|868 Hazy Crossing...|tamala4408@woohoo...|\n",
      "|130 Wishing Essex...|norene_dalton9509...|\n",
      "|P.O. Box 93831, S...| maris5817@hmail.com|\n",
      "|460 Dusty Kennedy...|vanhees6330@wooho...|\n",
      "|P.O. Box 70430, L...|werner3867@coldma...|\n",
      "|634 Clear Barn De...|vansteenbergen848...|\n",
      "+--------------------+--------------------+\n",
      "only showing top 20 rows\n",
      "\n"
     ]
    }
   ],
   "source": [
    "student_address_df = student_df.select(f.get_json_object(student_df.contact_info, '$.mailing_address').alias(\"mailing_address\"),\n",
    "                 f.get_json_object(student_df.contact_info, '$.email').alias(\"email_address\"))\n",
    "student_address_df.show()"
   ]
  },
  {
   "cell_type": "code",
   "execution_count": 96,
   "id": "940a27de",
   "metadata": {},
   "outputs": [],
   "source": [
    "# Split the address string into separate parts\n",
    "student_address_df = student_address_df.withColumn(\"split_col\", f.split(student_address_df[\"mailing_address\"], \",\"))\n",
    "\n",
    "# Combine the first three elements of the split_col list into the \"street\" column\n",
    "student_address_df = student_address_df.withColumn(\"street\", f.array_join(f.slice(student_address_df[\"split_col\"],1,1),' '))\n",
    "\n",
    "# Extract the city, state, and zipcode from the split_col list and create separate columns\n",
    "student_address_df = student_address_df.withColumn(\"city\", f.array_join(f.slice(student_address_df[\"split_col\"],2,1),' '))\n",
    "student_address_df = student_address_df.withColumn(\"state\", f.array_join(f.slice(student_address_df[\"split_col\"],3,1),' '))\n",
    "student_address_df = student_address_df.withColumn(\"zipcode\", f.array_join(f.slice(student_address_df[\"split_col\"],4,1),' '))\n",
    "\n",
    "# Drop the split_col column\n",
    "student_address_df = student_address_df.drop(\"split_col\")\n",
    "\n",
    "# Drop the mailing address column\n",
    "student_address_df = student_address_df.drop(\"mailing_address\")"
   ]
  },
  {
   "cell_type": "code",
   "execution_count": 97,
   "id": "4ea8b4bd",
   "metadata": {},
   "outputs": [
    {
     "name": "stdout",
     "output_type": "stream",
     "text": [
      "+--------------------+--------------------+----------------+---------------+-------+\n",
      "|       email_address|              street|            city|          state|zipcode|\n",
      "+--------------------+--------------------+----------------+---------------+-------+\n",
      "|annabelle_avery93...|    303 N Timber Key|        Irondale|      Wisconsin|  84736|\n",
      "| rubio6772@hmail.com|   767 Crescent Fair|          Shoals|        Indiana|  37439|\n",
      "|hosea_dale8084@co...|      P.O. Box 41269| St. Bonaventure|       Virginia|  83637|\n",
      "|  kirk4005@hmail.com|517 SE Wintergree...|            Lane|       Arkansas|  82242|\n",
      "|alexander9810@hma...|     18 Cinder Cliff|  Doyles borough|   Rhode Island|  73737|\n",
      "|shavonda5863@cold...|      P.O. Box 81591|  Tarpon Springs|        Montana|  37057|\n",
      "|bleijenberg188@hm...|      P.O. Box 53471|       Oskaloosa|       Virginia|  85274|\n",
      "|stanford_allan805...|   255 Spring Avenue|     Point Baker|          Texas|  15796|\n",
      "|tricia_delacruz66...|      997 Dewy Apple|    Lake Lindsey|     Washington|  78266|\n",
      "|regenia6908@inloo...|    220 Middle Ridge|  Falcon Heights|     New Mexico|  46971|\n",
      "|shonda_stephanin4...|    818 Clear Street|        Rockwood|          Maine|  14372|\n",
      "|mcfarland1396@woo...|     718 Embers Lane|            Dale| South Carolina|  19186|\n",
      "|edwardo8281@inloo...|        147 SW Plain|    Solana Beach|         Kansas|  01794|\n",
      "|robena_padilla147...|      P.O. Box 73926|  McLemoresville|       Maryland|  57372|\n",
      "|tamala4408@woohoo...|   868 Hazy Crossing|        Bethania|     Washington|  08205|\n",
      "|norene_dalton9509...|   130 Wishing Essex|          Branch|           Ohio|  13616|\n",
      "| maris5817@hmail.com|      P.O. Box 93831|  South Mountain|     Washington|  02481|\n",
      "|vanhees6330@wooho...|460 Dusty Kennedy...|         McBaine|     New Jersey|  41490|\n",
      "|werner3867@coldma...|      P.O. Box 70430|         Laramie|         Nevada|  56963|\n",
      "|vansteenbergen848...| 634 Clear Barn Dell|          Beaman|        Georgia|  33288|\n",
      "+--------------------+--------------------+----------------+---------------+-------+\n",
      "only showing top 20 rows\n",
      "\n"
     ]
    }
   ],
   "source": [
    "student_address_df.show()"
   ]
  },
  {
   "cell_type": "code",
   "execution_count": null,
   "id": "c46e7ae9",
   "metadata": {},
   "outputs": [],
   "source": []
  }
 ],
 "metadata": {
  "kernelspec": {
   "display_name": "PythonData",
   "language": "python",
   "name": "pythondata"
  },
  "language_info": {
   "codemirror_mode": {
    "name": "ipython",
    "version": 3
   },
   "file_extension": ".py",
   "mimetype": "text/x-python",
   "name": "python",
   "nbconvert_exporter": "python",
   "pygments_lexer": "ipython3",
   "version": "3.7.13"
  }
 },
 "nbformat": 4,
 "nbformat_minor": 5
}
