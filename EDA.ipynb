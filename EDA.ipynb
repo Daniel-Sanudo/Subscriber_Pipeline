{
 "cells": [
  {
   "cell_type": "code",
   "execution_count": 6,
   "id": "10ddcd32",
   "metadata": {},
   "outputs": [
    {
     "data": {
      "text/html": [
       "<style>pre { white-space: pre !important; }</style>"
      ],
      "text/plain": [
       "<IPython.core.display.HTML object>"
      ]
     },
     "metadata": {},
     "output_type": "display_data"
    },
    {
     "name": "stderr",
     "output_type": "stream",
     "text": [
      "  % Total    % Received % Xferd  Average Speed   Time    Time     Time  Current\n",
      "                                 Dload  Upload   Total   Spent    Left  Speed\n",
      "\n",
      "  0     0    0     0    0     0      0      0 --:--:-- --:--:-- --:--:--     0\n",
      "  6 7125k    6  446k    0     0   688k      0  0:00:10 --:--:--  0:00:10  688k\n",
      "100 7125k  100 7125k    0     0  5197k      0  0:00:01  0:00:01 --:--:-- 5200k\n"
     ]
    }
   ],
   "source": [
    "from IPython.display import display, HTML\n",
    "display(HTML(\"<style>pre { white-space: pre !important; }</style>\"))\n",
    "!curl -O https://repo1.maven.org/maven2/org/xerial/sqlite-jdbc/3.34.0/sqlite-jdbc-3.34.0.jar"
   ]
  },
  {
   "cell_type": "code",
   "execution_count": 7,
   "id": "4b142196",
   "metadata": {
    "scrolled": true
   },
   "outputs": [],
   "source": [
    "import sqlite3\n",
    "import os\n",
    "import pyspark.sql.functions as f\n",
    "from pyspark.sql import SparkSession\n",
    "from pyspark.sql.types import IntegerType, FloatType, DateType, StringType"
   ]
  },
  {
   "cell_type": "code",
   "execution_count": 8,
   "id": "1e883946",
   "metadata": {
    "scrolled": true
   },
   "outputs": [],
   "source": [
    "# Create connection to the database file and the cursor to manage it \n",
    "con = sqlite3.connect(os.path.join('dev','cademycode.db'))\n",
    "cur = con.cursor()"
   ]
  },
  {
   "cell_type": "code",
   "execution_count": 9,
   "id": "3b545e88",
   "metadata": {
    "scrolled": true
   },
   "outputs": [
    {
     "name": "stdout",
     "output_type": "stream",
     "text": [
      "[('cademycode_students',), ('cademycode_courses',), ('cademycode_student_jobs',)]\n"
     ]
    }
   ],
   "source": [
    "# Store the table names from the database\n",
    "table_names = cur.execute('''SELECT name FROM sqlite_master''').fetchall()\n",
    "print(table_names)"
   ]
  },
  {
   "cell_type": "code",
   "execution_count": 10,
   "id": "e21d216e",
   "metadata": {
    "scrolled": true
   },
   "outputs": [],
   "source": [
    "# Create spark session\n",
    "spark = SparkSession.builder \\\n",
    "        .appName('EDA') \\\n",
    "        .master('local[6]') \\\n",
    "        .config(\n",
    "        \"spark.jars\",\n",
    "        \"{}/sqlite-jdbc-3.34.0.jar\".format(os.getcwd())) \\\n",
    "        .config(\n",
    "        \"spark.driver.extraClassPath\",\n",
    "        \"{}/sqlite-jdbc-3.34.0.jar\".format(os.getcwd())) \\\n",
    "        .getOrCreate()"
   ]
  },
  {
   "cell_type": "code",
   "execution_count": 11,
   "id": "25e5f98b",
   "metadata": {
    "scrolled": true
   },
   "outputs": [
    {
     "name": "stdout",
     "output_type": "stream",
     "text": [
      "+----+--------------------+----------+---+--------------------+------+-------------+--------------+-----------+\n",
      "|uuid|                name| birthdate|sex|        contact_info|job_id|courses_count|career_path_id|hours_spent|\n",
      "+----+--------------------+----------+---+--------------------+------+-------------+--------------+-----------+\n",
      "|   1|     Annabelle Avery|1943-07-03|  F|{\"mailing_address...|   7.0|          6.0|           1.0|       4.99|\n",
      "|   2|         Micah Rubio|1991-02-07|  M|{\"mailing_address...|   7.0|          5.0|           8.0|        4.4|\n",
      "|   3|          Hosea Dale|1989-12-07|  M|{\"mailing_address...|   7.0|          8.0|           8.0|       6.74|\n",
      "|   4|        Mariann Kirk|1988-07-31|  F|{\"mailing_address...|   6.0|          7.0|           9.0|      12.31|\n",
      "|   5|     Lucio Alexander|1963-08-31|  M|{\"mailing_address...|   7.0|         14.0|           3.0|       5.64|\n",
      "|   6|    Shavonda Mcmahon|1989-10-15|  F|{\"mailing_address...|   6.0|         10.0|           3.0|      10.12|\n",
      "|   7| Terrell Bleijenberg|1959-05-05|  M|{\"mailing_address...|   2.0|          9.0|           8.0|      24.17|\n",
      "|   8|      Stanford Allan|1997-11-22|  M|{\"mailing_address...|   3.0|          3.0|           1.0|      19.54|\n",
      "|   9|     Tricia Delacruz|1961-10-20|  F|{\"mailing_address...|   1.0|          6.0|           9.0|       1.75|\n",
      "|  10|Regenia van der Helm|1999-02-23|  N|{\"mailing_address...|   5.0|          7.0|           6.0|      13.55|\n",
      "|  11|    Shonda Stephanin|1998-10-24|  F|{\"mailing_address...|   7.0|          5.0|          10.0|      12.61|\n",
      "|  12|    Marcus Mcfarland|1977-05-29|  M|{\"mailing_address...|   7.0|          3.0|           6.0|       9.12|\n",
      "|  13|   Edwardo Boonzayer|1975-05-23|  N|{\"mailing_address...|   2.0|         15.0|           5.0|       6.09|\n",
      "|  14|      Robena Padilla|1969-01-15|  F|{\"mailing_address...|   3.0|          5.0|           9.0|      15.92|\n",
      "|  15|        Tamala Sears|1942-06-01|  F|{\"mailing_address...|   7.0|         13.0|           1.0|       4.64|\n",
      "|  16|       Norene Dalton|1976-04-30|  F|{\"mailing_address...|   6.0|          0.0|          null|       null|\n",
      "|  17|      Maris Benskoop|1965-08-10|  F|{\"mailing_address...|   5.0|          5.0|           4.0|      12.08|\n",
      "|  18|    Yolande van Hees|1978-12-09|  F|{\"mailing_address...|   7.0|         13.0|           9.0|      34.44|\n",
      "|  19|      Dominic Werner|1973-09-29|  M|{\"mailing_address...|   5.0|         14.0|           8.0|      22.84|\n",
      "|  20|Sofia van Steenbe...|1990-02-21|  N|{\"mailing_address...|   7.0|         13.0|          null|       null|\n",
      "+----+--------------------+----------+---+--------------------+------+-------------+--------------+-----------+\n",
      "only showing top 20 rows\n",
      "\n",
      "[('uuid', 'bigint'), ('name', 'string'), ('birthdate', 'string'), ('sex', 'string'), ('contact_info', 'string'), ('job_id', 'string'), ('courses_count', 'string'), ('career_path_id', 'string'), ('hours_spent', 'string')]\n"
     ]
    }
   ],
   "source": [
    "# Create list with column names\n",
    "student_columns = ['uuid', 'name', 'birthdate', \n",
    "                   'sex', 'contact_info', 'job_id', \n",
    "                   'courses_count', 'career_path_id', 'hours_spent']\n",
    "\n",
    "# Create pyspark dataframe object using the queried information\n",
    "student_df = spark.createDataFrame(cur.execute('''SELECT * FROM cademycode_students''').fetchall(),student_columns)\n",
    "student_df.show()\n",
    "\n",
    "# Show the dtypes which were assigned\n",
    "print(student_df.dtypes)"
   ]
  },
  {
   "cell_type": "code",
   "execution_count": 12,
   "id": "8f631f2c",
   "metadata": {
    "scrolled": true
   },
   "outputs": [
    {
     "name": "stdout",
     "output_type": "stream",
     "text": [
      "+--------------+--------------------+-----------------+\n",
      "|career_path_id|    career_path_name|hours_to_complete|\n",
      "+--------------+--------------------+-----------------+\n",
      "|             1|      data scientist|               20|\n",
      "|             2|       data engineer|               20|\n",
      "|             3|        data analyst|               12|\n",
      "|             4|software engineering|               25|\n",
      "|             5|    backend engineer|               18|\n",
      "|             6|   frontend engineer|               20|\n",
      "|             7|       iOS developer|               27|\n",
      "|             8|   android developer|               27|\n",
      "|             9|machine learning ...|               35|\n",
      "|            10|      ux/ui designer|               15|\n",
      "+--------------+--------------------+-----------------+\n",
      "\n",
      "[('career_path_id', 'bigint'), ('career_path_name', 'string'), ('hours_to_complete', 'bigint')]\n"
     ]
    }
   ],
   "source": [
    "# Create list with column names\n",
    "course_columns = ['career_path_id', 'career_path_name', 'hours_to_complete']\n",
    "\n",
    "# Create pyspark dataframe using the data from the query\n",
    "course_df = spark.createDataFrame(cur.execute('''SELECT * FROM cademycode_courses''').fetchall(),course_columns)\n",
    "course_df.show()\n",
    "\n",
    "print(course_df.dtypes)"
   ]
  },
  {
   "cell_type": "code",
   "execution_count": 13,
   "id": "b94ba4bc",
   "metadata": {
    "scrolled": false
   },
   "outputs": [
    {
     "name": "stdout",
     "output_type": "stream",
     "text": [
      "+------+------------------+----------+\n",
      "|job_id|      job_category|avg_salary|\n",
      "+------+------------------+----------+\n",
      "|     1|         analytics|     86000|\n",
      "|     2|          engineer|    101000|\n",
      "|     3|software developer|    110000|\n",
      "|     4|          creative|     66000|\n",
      "|     5|financial services|    135000|\n",
      "|     6|         education|     61000|\n",
      "|     7|                HR|     80000|\n",
      "|     8|           student|     10000|\n",
      "|     9|        healthcare|    120000|\n",
      "|     0|             other|     80000|\n",
      "|     3|software developer|    110000|\n",
      "|     4|          creative|     66000|\n",
      "|     5|financial services|    135000|\n",
      "+------+------------------+----------+\n",
      "\n",
      "[('job_id', 'bigint'), ('job_category', 'string'), ('avg_salary', 'bigint')]\n"
     ]
    }
   ],
   "source": [
    "# Create list with column names\n",
    "job_columns = ['job_id', 'job_category', 'avg_salary']\n",
    "\n",
    "# Create PySpark dataframe from query\n",
    "job_df = spark.createDataFrame(cur.execute('''SELECT * FROM cademycode_student_jobs''').fetchall(),job_columns)\n",
    "job_df.show()\n",
    "\n",
    "print(job_df.dtypes)"
   ]
  },
  {
   "cell_type": "code",
   "execution_count": 14,
   "id": "af3efb50",
   "metadata": {},
   "outputs": [],
   "source": [
    "cur.close()\n",
    "con.close()"
   ]
  },
  {
   "cell_type": "markdown",
   "id": "d6398be4",
   "metadata": {},
   "source": [
    "The following steps will be needed to clean the data\n",
    "1. Extract the email and address for each student stores inside the _5 column dictionaries\n",
    "2. Check for null values in the dataframes\n",
    "3. Change dtype for the student_df dataframe to the following:\n",
    "    * birthdate which is a date type format to a datetime dtype\n",
    "    * Columns 'job_id', 'courses_count', 'career_path_id', 'hours_spent' from string to float\n",
    "4. Remove duplicates from all dataframes"
   ]
  },
  {
   "cell_type": "markdown",
   "id": "a25b9503",
   "metadata": {},
   "source": [
    "## student_df transformations\n",
    "This section will explode the json from the contact_info column into two different columns into a new dataframe named studend_address_df.\n",
    "From it,4 new columns called street, city, state and zipcode will be extracted.\n",
    "\n",
    "This will also create a new columned named year which extracts the birthdate year into a new column for easier use in further operations\n",
    "\n",
    "Aditionally, the missing values will be extracted and stored in a separate dataframe for futher analytics.\n",
    "\n",
    "Once there are no missing values, the dtypes for each column will be adjusted\n"
   ]
  },
  {
   "cell_type": "code",
   "execution_count": 15,
   "id": "60e2a67f",
   "metadata": {
    "scrolled": false
   },
   "outputs": [
    {
     "name": "stdout",
     "output_type": "stream",
     "text": [
      "+------------+--------------------+--------------------+\n",
      "|student_uuid|     mailing_address|       email_address|\n",
      "+------------+--------------------+--------------------+\n",
      "|           1|303 N Timber Key,...|annabelle_avery93...|\n",
      "|           2|767 Crescent Fair...| rubio6772@hmail.com|\n",
      "|           3|P.O. Box 41269, S...|hosea_dale8084@co...|\n",
      "|           4|517 SE Wintergree...|  kirk4005@hmail.com|\n",
      "|           5|18 Cinder Cliff, ...|alexander9810@hma...|\n",
      "|           6|P.O. Box 81591, T...|shavonda5863@cold...|\n",
      "|           7|P.O. Box 53471, O...|bleijenberg188@hm...|\n",
      "|           8|255 Spring Avenue...|stanford_allan805...|\n",
      "|           9|997 Dewy Apple, L...|tricia_delacruz66...|\n",
      "|          10|220 Middle Ridge,...|regenia6908@inloo...|\n",
      "|          11|818 Clear Street,...|shonda_stephanin4...|\n",
      "|          12|718 Embers Lane, ...|mcfarland1396@woo...|\n",
      "|          13|147 SW Plain, Sol...|edwardo8281@inloo...|\n",
      "|          14|P.O. Box 73926, M...|robena_padilla147...|\n",
      "|          15|868 Hazy Crossing...|tamala4408@woohoo...|\n",
      "|          16|130 Wishing Essex...|norene_dalton9509...|\n",
      "|          17|P.O. Box 93831, S...| maris5817@hmail.com|\n",
      "|          18|460 Dusty Kennedy...|vanhees6330@wooho...|\n",
      "|          19|P.O. Box 70430, L...|werner3867@coldma...|\n",
      "|          20|634 Clear Barn De...|vansteenbergen848...|\n",
      "+------------+--------------------+--------------------+\n",
      "only showing top 20 rows\n",
      "\n"
     ]
    }
   ],
   "source": [
    "# Create a new pyspark dataframe which contains the following:\n",
    "    # uuid to use in the join\n",
    "    # mailing address which is extracted from the dictionary\n",
    "    # email address which is extracted from the dictionary\n",
    "    \n",
    "student_address_df = student_df.select(\n",
    "                student_df.uuid.alias('student_uuid'),\n",
    "                f.get_json_object(student_df.contact_info, '$.mailing_address').alias(\"mailing_address\"),\n",
    "                f.get_json_object(student_df.contact_info, '$.email').alias(\"email_address\"))\n",
    "student_address_df.show()"
   ]
  },
  {
   "cell_type": "code",
   "execution_count": 16,
   "id": "940a27de",
   "metadata": {
    "scrolled": true
   },
   "outputs": [],
   "source": [
    "# Split the address string into separate parts\n",
    "student_address_df = student_address_df.withColumn(\"split_col\", f.split(student_address_df[\"mailing_address\"], \",\"))\n",
    "\n",
    "# Combine the first three elements of the split_col list into the \"street\" column\n",
    "student_address_df = student_address_df.withColumn(\"street\", f.array_join(f.slice(student_address_df[\"split_col\"],1,1),' '))\n",
    "\n",
    "# Extract the city, state, and zipcode from the split_col list and create separate columns\n",
    "student_address_df = student_address_df.withColumn(\"city\", f.array_join(f.slice(student_address_df[\"split_col\"],2,1),' '))\n",
    "student_address_df = student_address_df.withColumn(\"state\", f.array_join(f.slice(student_address_df[\"split_col\"],3,1),' '))\n",
    "student_address_df = student_address_df.withColumn(\"zipcode\", f.array_join(f.slice(student_address_df[\"split_col\"],4,1),' '))\n",
    "\n",
    "# Drop the split_col column\n",
    "student_address_df = student_address_df.drop(\"split_col\")\n",
    "\n",
    "# Drop the mailing address column\n",
    "student_address_df = student_address_df.drop(\"mailing_address\")"
   ]
  },
  {
   "cell_type": "code",
   "execution_count": 17,
   "id": "4ea8b4bd",
   "metadata": {
    "scrolled": false
   },
   "outputs": [
    {
     "name": "stdout",
     "output_type": "stream",
     "text": [
      "+------------+--------------------+--------------------+----------------+---------------+-------+\n",
      "|student_uuid|       email_address|              street|            city|          state|zipcode|\n",
      "+------------+--------------------+--------------------+----------------+---------------+-------+\n",
      "|           1|annabelle_avery93...|    303 N Timber Key|        Irondale|      Wisconsin|  84736|\n",
      "|           2| rubio6772@hmail.com|   767 Crescent Fair|          Shoals|        Indiana|  37439|\n",
      "|           3|hosea_dale8084@co...|      P.O. Box 41269| St. Bonaventure|       Virginia|  83637|\n",
      "|           4|  kirk4005@hmail.com|517 SE Wintergree...|            Lane|       Arkansas|  82242|\n",
      "|           5|alexander9810@hma...|     18 Cinder Cliff|  Doyles borough|   Rhode Island|  73737|\n",
      "|           6|shavonda5863@cold...|      P.O. Box 81591|  Tarpon Springs|        Montana|  37057|\n",
      "|           7|bleijenberg188@hm...|      P.O. Box 53471|       Oskaloosa|       Virginia|  85274|\n",
      "|           8|stanford_allan805...|   255 Spring Avenue|     Point Baker|          Texas|  15796|\n",
      "|           9|tricia_delacruz66...|      997 Dewy Apple|    Lake Lindsey|     Washington|  78266|\n",
      "|          10|regenia6908@inloo...|    220 Middle Ridge|  Falcon Heights|     New Mexico|  46971|\n",
      "|          11|shonda_stephanin4...|    818 Clear Street|        Rockwood|          Maine|  14372|\n",
      "|          12|mcfarland1396@woo...|     718 Embers Lane|            Dale| South Carolina|  19186|\n",
      "|          13|edwardo8281@inloo...|        147 SW Plain|    Solana Beach|         Kansas|  01794|\n",
      "|          14|robena_padilla147...|      P.O. Box 73926|  McLemoresville|       Maryland|  57372|\n",
      "|          15|tamala4408@woohoo...|   868 Hazy Crossing|        Bethania|     Washington|  08205|\n",
      "|          16|norene_dalton9509...|   130 Wishing Essex|          Branch|           Ohio|  13616|\n",
      "|          17| maris5817@hmail.com|      P.O. Box 93831|  South Mountain|     Washington|  02481|\n",
      "|          18|vanhees6330@wooho...|460 Dusty Kennedy...|         McBaine|     New Jersey|  41490|\n",
      "|          19|werner3867@coldma...|      P.O. Box 70430|         Laramie|         Nevada|  56963|\n",
      "|          20|vansteenbergen848...| 634 Clear Barn Dell|          Beaman|        Georgia|  33288|\n",
      "+------------+--------------------+--------------------+----------------+---------------+-------+\n",
      "only showing top 20 rows\n",
      "\n"
     ]
    }
   ],
   "source": [
    "# Show the resulting dataframe with the student contact information\n",
    "student_address_df.show()"
   ]
  },
  {
   "cell_type": "code",
   "execution_count": 18,
   "id": "c46e7ae9",
   "metadata": {
    "scrolled": false
   },
   "outputs": [
    {
     "name": "stdout",
     "output_type": "stream",
     "text": [
      "+----+--------------------+----------+---+------+-------------+--------------+-----------+--------------------+--------------------+--------------------+---------------+-------+\n",
      "|uuid|                name| birthdate|sex|job_id|courses_count|career_path_id|hours_spent|       email_address|              street|                city|          state|zipcode|\n",
      "+----+--------------------+----------+---+------+-------------+--------------+-----------+--------------------+--------------------+--------------------+---------------+-------+\n",
      "|  26|       Doug Browning|1970-06-08|  M|   7.0|         null|           5.0|       1.92| doug7761@inlook.com|      P.O. Box 15845|              Devine|        Florida|  23097|\n",
      "|  29|      Edgardo Chavez|1946-02-12|  M|   7.0|         12.0|           5.0|      12.98|edgardo9341@wooho...|758 Green Butterf...|     Crescentvillage|          Maine|  81750|\n",
      "| 474|       Minerva Solis|1982-09-05|  F|   2.0|         15.0|           6.0|       3.55|minerva_solis961@...|     782 Common Edge|       Martins Ferry|  West Virginia|  13878|\n",
      "|  65|         Jasmine Vos|1942-08-24|  F|   5.0|         13.0|          null|       null|vos8677@coldmail.com|      P.O. Box 56722|             La Veta|        Vermont|  72685|\n",
      "| 191|         Arlen Downs|1945-10-07|  N|   5.0|         11.0|           3.0|       0.87|arlen9022@woohoo.com|      732 Lazy Apple|             Manning|          Maine|  27845|\n",
      "| 418|      Reid Schneider|1956-08-31|  M|   2.0|          6.0|           4.0|       9.85|schneider4464@hma...| 701 Hazy Dale Union|           Waterbury|       Maryland|  20081|\n",
      "| 541|Tristan van der G...|1952-09-11|  M|   4.0|         13.0|          null|       null|tristan1307@coldm...|      P.O. Box 72903|               Gabbs|      Tennessee|  85285|\n",
      "| 558|       Hedwig Mooney|2004-05-22|  F|   8.0|          6.0|           1.0|      12.38|hedwig391@inlook.com|  622 Cinder Seventh|             Du Pont|       Arkansas|  00563|\n",
      "| 222|         Ali de Kock|1960-03-12|  M|   7.0|          4.0|           1.0|      14.87|dekock3427@coldma...|      P.O. Box 63561|              Arnett|    Mississippi|  26124|\n",
      "| 270|Hobert van der Peijl|1990-09-06|  M|   7.0|          5.0|           4.0|      22.49|hobert2230@woohoo...|      P.O. Box 36183|        Clintonville|       Michigan|  89366|\n",
      "| 293|     Simone Davidson|1958-04-22|  F|   1.0|          4.0|           4.0|      15.52|simone3163@woohoo...|    853 Amber Willow|      South Coventry|        Wyoming|  52657|\n",
      "| 730|   Kimberlee Serrano|1984-04-05|  F|   1.0|          3.0|           3.0|      11.49|serrano7645@coldm...| 61 Clear Throughway|             Coleman|     Washington|  23610|\n",
      "| 243|          Elias Wise|1978-02-17|  M|   3.0|          8.0|           9.0|       30.7|  wise4765@hmail.com|   193 Embers Parade|     Fieldon village|      Louisiana|  28371|\n",
      "| 278|   Roxanne van Soest|1972-04-20|  F|   1.0|         10.0|           7.0|       6.38|roxanne3293@wooho...|652 Emerald Circl...|          Enterprise|           Utah|  97710|\n",
      "| 367|          Lexie Hale|1942-06-11|  N|   7.0|         15.0|           2.0|       1.98|  hale4143@hmail.com|       628 Mall Land|          Costa Mesa|           Iowa|  25391|\n",
      "| 442|    Humberto Emerson|1986-10-27|  M|   4.0|          4.0|          10.0|       3.03|humberto_emerson3...|290 Umber Trafficway|             Bucyrus|      Wisconsin|  12080|\n",
      "| 705|         Luci Konijn|1964-03-21|  N|   4.0|          5.0|          10.0|       2.54|luci4431@coldmail...|      P.O. Box 98364|               China|       Delaware|  57571|\n",
      "| 720| Toby van Riemsdaijk|2000-11-01|  M|   1.0|         10.0|           6.0|      11.44|  toby4174@hmail.com|          785 N Flat|         Philipsburg|       Delaware|  03685|\n",
      "|  19|      Dominic Werner|1973-09-29|  M|   5.0|         14.0|           8.0|      22.84|werner3867@coldma...|      P.O. Box 70430|             Laramie|         Nevada|  56963|\n",
      "|  54|      Lannie Frazier|1987-12-23|  F|   3.0|          2.0|           1.0|       4.76|frazier8553@coldm...|      769 Green Edge| Ocean Beach village| South Carolina|  63560|\n",
      "+----+--------------------+----------+---+------+-------------+--------------+-----------+--------------------+--------------------+--------------------+---------------+-------+\n",
      "only showing top 20 rows\n",
      "\n"
     ]
    }
   ],
   "source": [
    "# Join the contact information dataframe to the original dataframe and drop the join column to avoid duplicity\n",
    "student_df = student_df.join(student_address_df, student_df.uuid == student_address_df.student_uuid).drop('student_uuid')\n",
    "student_df = student_df.drop('contact_info')\n",
    "student_df.show()"
   ]
  },
  {
   "cell_type": "code",
   "execution_count": 19,
   "id": "0a854d17",
   "metadata": {
    "scrolled": false
   },
   "outputs": [
    {
     "name": "stdout",
     "output_type": "stream",
     "text": [
      "+----+--------------------+----------+---+------+-------------+--------------+-----------+--------------------+--------------------+--------------------+---------------+-------+----------+\n",
      "|uuid|                name| birthdate|sex|job_id|courses_count|career_path_id|hours_spent|       email_address|              street|                city|          state|zipcode|birth_year|\n",
      "+----+--------------------+----------+---+------+-------------+--------------+-----------+--------------------+--------------------+--------------------+---------------+-------+----------+\n",
      "|  26|       Doug Browning|1970-06-08|  M|   7.0|         null|           5.0|       1.92| doug7761@inlook.com|      P.O. Box 15845|              Devine|        Florida|  23097|      1970|\n",
      "|  29|      Edgardo Chavez|1946-02-12|  M|   7.0|         12.0|           5.0|      12.98|edgardo9341@wooho...|758 Green Butterf...|     Crescentvillage|          Maine|  81750|      1946|\n",
      "| 474|       Minerva Solis|1982-09-05|  F|   2.0|         15.0|           6.0|       3.55|minerva_solis961@...|     782 Common Edge|       Martins Ferry|  West Virginia|  13878|      1982|\n",
      "|  65|         Jasmine Vos|1942-08-24|  F|   5.0|         13.0|          null|       null|vos8677@coldmail.com|      P.O. Box 56722|             La Veta|        Vermont|  72685|      1942|\n",
      "| 191|         Arlen Downs|1945-10-07|  N|   5.0|         11.0|           3.0|       0.87|arlen9022@woohoo.com|      732 Lazy Apple|             Manning|          Maine|  27845|      1945|\n",
      "| 418|      Reid Schneider|1956-08-31|  M|   2.0|          6.0|           4.0|       9.85|schneider4464@hma...| 701 Hazy Dale Union|           Waterbury|       Maryland|  20081|      1956|\n",
      "| 541|Tristan van der G...|1952-09-11|  M|   4.0|         13.0|          null|       null|tristan1307@coldm...|      P.O. Box 72903|               Gabbs|      Tennessee|  85285|      1952|\n",
      "| 558|       Hedwig Mooney|2004-05-22|  F|   8.0|          6.0|           1.0|      12.38|hedwig391@inlook.com|  622 Cinder Seventh|             Du Pont|       Arkansas|  00563|      2004|\n",
      "| 222|         Ali de Kock|1960-03-12|  M|   7.0|          4.0|           1.0|      14.87|dekock3427@coldma...|      P.O. Box 63561|              Arnett|    Mississippi|  26124|      1960|\n",
      "| 270|Hobert van der Peijl|1990-09-06|  M|   7.0|          5.0|           4.0|      22.49|hobert2230@woohoo...|      P.O. Box 36183|        Clintonville|       Michigan|  89366|      1990|\n",
      "| 293|     Simone Davidson|1958-04-22|  F|   1.0|          4.0|           4.0|      15.52|simone3163@woohoo...|    853 Amber Willow|      South Coventry|        Wyoming|  52657|      1958|\n",
      "| 730|   Kimberlee Serrano|1984-04-05|  F|   1.0|          3.0|           3.0|      11.49|serrano7645@coldm...| 61 Clear Throughway|             Coleman|     Washington|  23610|      1984|\n",
      "| 243|          Elias Wise|1978-02-17|  M|   3.0|          8.0|           9.0|       30.7|  wise4765@hmail.com|   193 Embers Parade|     Fieldon village|      Louisiana|  28371|      1978|\n",
      "| 278|   Roxanne van Soest|1972-04-20|  F|   1.0|         10.0|           7.0|       6.38|roxanne3293@wooho...|652 Emerald Circl...|          Enterprise|           Utah|  97710|      1972|\n",
      "| 367|          Lexie Hale|1942-06-11|  N|   7.0|         15.0|           2.0|       1.98|  hale4143@hmail.com|       628 Mall Land|          Costa Mesa|           Iowa|  25391|      1942|\n",
      "| 442|    Humberto Emerson|1986-10-27|  M|   4.0|          4.0|          10.0|       3.03|humberto_emerson3...|290 Umber Trafficway|             Bucyrus|      Wisconsin|  12080|      1986|\n",
      "| 705|         Luci Konijn|1964-03-21|  N|   4.0|          5.0|          10.0|       2.54|luci4431@coldmail...|      P.O. Box 98364|               China|       Delaware|  57571|      1964|\n",
      "| 720| Toby van Riemsdaijk|2000-11-01|  M|   1.0|         10.0|           6.0|      11.44|  toby4174@hmail.com|          785 N Flat|         Philipsburg|       Delaware|  03685|      2000|\n",
      "|  19|      Dominic Werner|1973-09-29|  M|   5.0|         14.0|           8.0|      22.84|werner3867@coldma...|      P.O. Box 70430|             Laramie|         Nevada|  56963|      1973|\n",
      "|  54|      Lannie Frazier|1987-12-23|  F|   3.0|          2.0|           1.0|       4.76|frazier8553@coldm...|      769 Green Edge| Ocean Beach village| South Carolina|  63560|      1987|\n",
      "+----+--------------------+----------+---+------+-------------+--------------+-----------+--------------------+--------------------+--------------------+---------------+-------+----------+\n",
      "only showing top 20 rows\n",
      "\n"
     ]
    }
   ],
   "source": [
    "# Extract the year from the birthdate and store it as its own value to make it easier to access it for further analytics\n",
    "\n",
    "student_df = student_df.withColumn('birth_year', f.array_join(f.slice(f.split(student_df.birthdate, '-'),1,1),''))\n",
    "student_df.show()"
   ]
  },
  {
   "cell_type": "code",
   "execution_count": 20,
   "id": "71dbba16",
   "metadata": {
    "scrolled": true
   },
   "outputs": [
    {
     "name": "stdout",
     "output_type": "stream",
     "text": [
      "+------------------+------------------+-----------------------+-----------------+--------------------+---------------------------+----------------------------+-------------------------+---------------------------+--------------------+------------------+-------------------+---------------------+------------------------+\n",
      "|uuid_Missing_Count|name_Missing_Count|birthdate_Missing_Count|sex_Missing_Count|job_id_Missing_Count|courses_count_Missing_Count|career_path_id_Missing_Count|hours_spent_Missing_Count|email_address_Missing_Count|street_Missing_Count|city_Missing_Count|state_Missing_Count|zipcode_Missing_Count|birth_year_Missing_Count|\n",
      "+------------------+------------------+-----------------------+-----------------+--------------------+---------------------------+----------------------------+-------------------------+---------------------------+--------------------+------------------+-------------------+---------------------+------------------------+\n",
      "|                 0|                 0|                      0|                0|                   5|                        251|                         471|                      471|                          0|                   0|                 0|                  0|                    0|                       0|\n",
      "+------------------+------------------+-----------------------+-----------------+--------------------+---------------------------+----------------------------+-------------------------+---------------------------+--------------------+------------------+-------------------+---------------------+------------------------+\n",
      "\n"
     ]
    }
   ],
   "source": [
    "# Count the null/nan/missing values in each column\n",
    "student_df.select([f.count(f.when(f.col(col).isNull() | f.isnan(col),col)).alias(f'{col}_Missing_Count') for col in student_df.columns]).show()"
   ]
  },
  {
   "cell_type": "code",
   "execution_count": 21,
   "id": "36930800",
   "metadata": {
    "scrolled": true
   },
   "outputs": [
    {
     "name": "stdout",
     "output_type": "stream",
     "text": [
      "+------------------+------------------+-----------------------+-----------------+--------------------+---------------------------+----------------------------+-------------------------+---------------------------+--------------------+------------------+-------------------+---------------------+------------------------+\n",
      "|uuid_Missing_Count|name_Missing_Count|birthdate_Missing_Count|sex_Missing_Count|job_id_Missing_Count|courses_count_Missing_Count|career_path_id_Missing_Count|hours_spent_Missing_Count|email_address_Missing_Count|street_Missing_Count|city_Missing_Count|state_Missing_Count|zipcode_Missing_Count|birth_year_Missing_Count|\n",
      "+------------------+------------------+-----------------------+-----------------+--------------------+---------------------------+----------------------------+-------------------------+---------------------------+--------------------+------------------+-------------------+---------------------+------------------------+\n",
      "|                 0|                 0|                      0|                0|                   5|                        251|                         471|                      471|                          0|                   0|                 0|                  0|                    0|                       0|\n",
      "+------------------+------------------+-----------------------+-----------------+--------------------+---------------------------+----------------------------+-------------------------+---------------------------+--------------------+------------------+-------------------+---------------------+------------------------+\n",
      "\n"
     ]
    }
   ],
   "source": [
    "# Create a new dataframe with the missing information instead of deleting it so it can be used to look into the reasons for missing data\n",
    "student_df_missing_info = student_df.exceptAll(student_df.dropna())\n",
    "student_df_missing_info.select([f.count(f.when(f.col(col).isNull() | f.isnan(col),col)).alias(f'{col}_Missing_Count') for col in student_df_missing_info.columns]).show()"
   ]
  },
  {
   "cell_type": "code",
   "execution_count": 22,
   "id": "7cbee3c6",
   "metadata": {},
   "outputs": [
    {
     "name": "stdout",
     "output_type": "stream",
     "text": [
      "+------------------+------------------+-----------------------+-----------------+--------------------+---------------------------+----------------------------+-------------------------+---------------------------+--------------------+------------------+-------------------+---------------------+------------------------+\n",
      "|uuid_Missing_Count|name_Missing_Count|birthdate_Missing_Count|sex_Missing_Count|job_id_Missing_Count|courses_count_Missing_Count|career_path_id_Missing_Count|hours_spent_Missing_Count|email_address_Missing_Count|street_Missing_Count|city_Missing_Count|state_Missing_Count|zipcode_Missing_Count|birth_year_Missing_Count|\n",
      "+------------------+------------------+-----------------------+-----------------+--------------------+---------------------------+----------------------------+-------------------------+---------------------------+--------------------+------------------+-------------------+---------------------+------------------------+\n",
      "|                 0|                 0|                      0|                0|                   0|                          0|                           0|                        0|                          0|                   0|                 0|                  0|                    0|                       0|\n",
      "+------------------+------------------+-----------------------+-----------------+--------------------+---------------------------+----------------------------+-------------------------+---------------------------+--------------------+------------------+-------------------+---------------------+------------------------+\n",
      "\n"
     ]
    }
   ],
   "source": [
    "# Drop the null/nan/missing values from the dataframe now that they have been stored in another\n",
    "student_df = student_df.dropna()\n",
    "student_df.select([f.count(f.when(f.col(col).isNull() | f.isnan(col),col)).alias(f'{col}_Missing_Count') for col in student_df.columns]).show()"
   ]
  },
  {
   "cell_type": "code",
   "execution_count": 23,
   "id": "1cf174ff",
   "metadata": {},
   "outputs": [
    {
     "name": "stdout",
     "output_type": "stream",
     "text": [
      "+----+--------------------+----------+----------+---+--------------------+--------------------+--------------------+---------------+-------+------+-------------+--------------+-----------+\n",
      "|uuid|                name| birthdate|birth_year|sex|       email_address|              street|                city|          state|zipcode|job_id|courses_count|career_path_id|hours_spent|\n",
      "+----+--------------------+----------+----------+---+--------------------+--------------------+--------------------+---------------+-------+------+-------------+--------------+-----------+\n",
      "|  29|      Edgardo Chavez|1946-02-12|      1946|  M|edgardo9341@wooho...|758 Green Butterf...|     Crescentvillage|          Maine|  81750|     7|           12|             5|      12.98|\n",
      "| 474|       Minerva Solis|1982-09-05|      1982|  F|minerva_solis961@...|     782 Common Edge|       Martins Ferry|  West Virginia|  13878|     2|           15|             6|       3.55|\n",
      "| 191|         Arlen Downs|1945-10-07|      1945|  N|arlen9022@woohoo.com|      732 Lazy Apple|             Manning|          Maine|  27845|     5|           11|             3|       0.87|\n",
      "| 418|      Reid Schneider|1956-08-31|      1956|  M|schneider4464@hma...| 701 Hazy Dale Union|           Waterbury|       Maryland|  20081|     2|            6|             4|       9.85|\n",
      "| 558|       Hedwig Mooney|2004-05-22|      2004|  F|hedwig391@inlook.com|  622 Cinder Seventh|             Du Pont|       Arkansas|    563|     8|            6|             1|      12.38|\n",
      "| 222|         Ali de Kock|1960-03-12|      1960|  M|dekock3427@coldma...|      P.O. Box 63561|              Arnett|    Mississippi|  26124|     7|            4|             1|      14.87|\n",
      "| 270|Hobert van der Peijl|1990-09-06|      1990|  M|hobert2230@woohoo...|      P.O. Box 36183|        Clintonville|       Michigan|  89366|     7|            5|             4|      22.49|\n",
      "| 293|     Simone Davidson|1958-04-22|      1958|  F|simone3163@woohoo...|    853 Amber Willow|      South Coventry|        Wyoming|  52657|     1|            4|             4|      15.52|\n",
      "| 730|   Kimberlee Serrano|1984-04-05|      1984|  F|serrano7645@coldm...| 61 Clear Throughway|             Coleman|     Washington|  23610|     1|            3|             3|      11.49|\n",
      "| 243|          Elias Wise|1978-02-17|      1978|  M|  wise4765@hmail.com|   193 Embers Parade|     Fieldon village|      Louisiana|  28371|     3|            8|             9|       30.7|\n",
      "| 278|   Roxanne van Soest|1972-04-20|      1972|  F|roxanne3293@wooho...|652 Emerald Circl...|          Enterprise|           Utah|  97710|     1|           10|             7|       6.38|\n",
      "| 367|          Lexie Hale|1942-06-11|      1942|  N|  hale4143@hmail.com|       628 Mall Land|          Costa Mesa|           Iowa|  25391|     7|           15|             2|       1.98|\n",
      "| 442|    Humberto Emerson|1986-10-27|      1986|  M|humberto_emerson3...|290 Umber Trafficway|             Bucyrus|      Wisconsin|  12080|     4|            4|            10|       3.03|\n",
      "| 705|         Luci Konijn|1964-03-21|      1964|  N|luci4431@coldmail...|      P.O. Box 98364|               China|       Delaware|  57571|     4|            5|            10|       2.54|\n",
      "| 720| Toby van Riemsdaijk|2000-11-01|      2000|  M|  toby4174@hmail.com|          785 N Flat|         Philipsburg|       Delaware|   3685|     1|           10|             6|      11.44|\n",
      "|  19|      Dominic Werner|1973-09-29|      1973|  M|werner3867@coldma...|      P.O. Box 70430|             Laramie|         Nevada|  56963|     5|           14|             8|      22.84|\n",
      "|  54|      Lannie Frazier|1987-12-23|      1987|  F|frazier8553@coldm...|      769 Green Edge| Ocean Beach village| South Carolina|  63560|     3|            2|             1|       4.76|\n",
      "| 296|       Corie Morales|1968-12-18|      1968|  F|morales1327@wooho...|      P.O. Box 19024|           Paragonah|       Illinois|   2654|     4|            7|             1|      17.01|\n",
      "| 277|        Kermit Stein|1971-05-21|      1971|  M|kermit7822@woohoo...|   893 Log Highlands|         Port Graham|      Tennessee|  60703|     4|           12|             4|      22.68|\n",
      "| 348|  Marshall Palsgraaf|1994-08-12|      1994|  N|marshall_palsgraa...|     801 Clear Ridge|   Coldwater village|         Oregon|  86038|     7|            6|             9|       4.72|\n",
      "+----+--------------------+----------+----------+---+--------------------+--------------------+--------------------+---------------+-------+------+-------------+--------------+-----------+\n",
      "only showing top 20 rows\n",
      "\n"
     ]
    },
    {
     "data": {
      "text/plain": [
       "[('uuid', 'int'),\n",
       " ('name', 'string'),\n",
       " ('birthdate', 'date'),\n",
       " ('birth_year', 'int'),\n",
       " ('sex', 'string'),\n",
       " ('email_address', 'string'),\n",
       " ('street', 'string'),\n",
       " ('city', 'string'),\n",
       " ('state', 'string'),\n",
       " ('zipcode', 'int'),\n",
       " ('job_id', 'int'),\n",
       " ('courses_count', 'int'),\n",
       " ('career_path_id', 'int'),\n",
       " ('hours_spent', 'float')]"
      ]
     },
     "execution_count": 23,
     "metadata": {},
     "output_type": "execute_result"
    }
   ],
   "source": [
    "# Sort the student_df columns and cast them to the right dtype\n",
    "sorted_columns = ['uuid', 'name', 'birthdate', \n",
    "                  'birth_year', 'sex', 'email_address',\n",
    "                  'street', 'city', 'state', 'zipcode',\n",
    "                  'job_id', 'courses_count', 'career_path_id',\n",
    "                  'hours_spent']\n",
    "column_dtypes = [IntegerType(), StringType(), DateType(),\n",
    "                 IntegerType(), StringType(), StringType(),\n",
    "                 StringType(), StringType(), StringType(), IntegerType(),\n",
    "                 IntegerType(), IntegerType(), IntegerType(),\n",
    "                 FloatType()]\n",
    "for key,value in dict(zip(sorted_columns,column_dtypes)).items():\n",
    "    student_df = student_df.withColumn(key, student_df[key].cast(value))\n",
    "student_df = student_df.select(*sorted_columns)\n",
    "student_df.show()\n",
    "student_df.dtypes"
   ]
  },
  {
   "cell_type": "markdown",
   "id": "e961e631",
   "metadata": {},
   "source": [
    "## course_df transformation\n",
    "The student_df career_path_id values will be inspected to see if these match with those in the course_df. \n",
    "\n",
    "Since course_df is a small dataframe with few dimensions, if this check is passed then there will be no need to transform it."
   ]
  },
  {
   "cell_type": "code",
   "execution_count": 24,
   "id": "1422c336",
   "metadata": {},
   "outputs": [
    {
     "name": "stdout",
     "output_type": "stream",
     "text": [
      "+--------------+-----+\n",
      "|career_path_id|count|\n",
      "+--------------+-----+\n",
      "|             1|  437|\n",
      "|             2|  428|\n",
      "|             3|  442|\n",
      "|             4|  401|\n",
      "|             5|  446|\n",
      "|             6|  432|\n",
      "|             7|  433|\n",
      "|             8|  420|\n",
      "|             9|  417|\n",
      "|            10|  437|\n",
      "+--------------+-----+\n",
      "\n"
     ]
    }
   ],
   "source": [
    "student_df.groupBy('career_path_id').count().orderBy('career_path_id').show()"
   ]
  },
  {
   "cell_type": "code",
   "execution_count": 25,
   "id": "6be28043",
   "metadata": {},
   "outputs": [
    {
     "name": "stdout",
     "output_type": "stream",
     "text": [
      "+--------------+--------------------+-----------------+\n",
      "|career_path_id|    career_path_name|hours_to_complete|\n",
      "+--------------+--------------------+-----------------+\n",
      "|             1|      data scientist|               20|\n",
      "|             2|       data engineer|               20|\n",
      "|             3|        data analyst|               12|\n",
      "|             4|software engineering|               25|\n",
      "|             5|    backend engineer|               18|\n",
      "|             6|   frontend engineer|               20|\n",
      "|             7|       iOS developer|               27|\n",
      "|             8|   android developer|               27|\n",
      "|             9|machine learning ...|               35|\n",
      "|            10|      ux/ui designer|               15|\n",
      "+--------------+--------------------+-----------------+\n",
      "\n"
     ]
    }
   ],
   "source": [
    "course_df.show()"
   ]
  },
  {
   "cell_type": "markdown",
   "id": "510607c8",
   "metadata": {},
   "source": [
    "## job_df\n",
    "\n",
    "Like the course_df, the jobs_df has few data entries. \n",
    "During the initial exploration there were some duplicate entries therefore they'll be removed"
   ]
  },
  {
   "cell_type": "code",
   "execution_count": 26,
   "id": "071df347",
   "metadata": {},
   "outputs": [
    {
     "name": "stdout",
     "output_type": "stream",
     "text": [
      "+------+-----+\n",
      "|job_id|count|\n",
      "+------+-----+\n",
      "|     1|    1|\n",
      "|     2|    1|\n",
      "|     3|    2|\n",
      "|     4|    2|\n",
      "|     6|    1|\n",
      "|     5|    2|\n",
      "|     7|    1|\n",
      "|     8|    1|\n",
      "|     0|    1|\n",
      "|     9|    1|\n",
      "+------+-----+\n",
      "\n"
     ]
    }
   ],
   "source": [
    "job_df.groupby('job_id').count().show()"
   ]
  },
  {
   "cell_type": "code",
   "execution_count": 27,
   "id": "398ee44c",
   "metadata": {},
   "outputs": [
    {
     "name": "stdout",
     "output_type": "stream",
     "text": [
      "+------+------------------+----------+\n",
      "|job_id|      job_category|avg_salary|\n",
      "+------+------------------+----------+\n",
      "|     1|         analytics|     86000|\n",
      "|     2|          engineer|    101000|\n",
      "|     3|software developer|    110000|\n",
      "|     4|          creative|     66000|\n",
      "|     5|financial services|    135000|\n",
      "|     6|         education|     61000|\n",
      "|     7|                HR|     80000|\n",
      "|     8|           student|     10000|\n",
      "|     9|        healthcare|    120000|\n",
      "|     0|             other|     80000|\n",
      "+------+------------------+----------+\n",
      "\n"
     ]
    },
    {
     "data": {
      "text/plain": [
       "[('job_id', 'bigint'), ('job_category', 'string'), ('avg_salary', 'bigint')]"
      ]
     },
     "execution_count": 27,
     "metadata": {},
     "output_type": "execute_result"
    }
   ],
   "source": [
    "job_df = job_df.dropDuplicates()\n",
    "job_df.show()\n",
    "job_df.dtypes"
   ]
  },
  {
   "cell_type": "markdown",
   "id": "9a3119a3",
   "metadata": {},
   "source": [
    "## Create the tables that will be loaded to the new db\n",
    "The student df columns are the following: \n",
    "['uuid', 'name', 'birthdate', \n",
    "'birth_year', 'sex', 'email_address',\n",
    "'street', 'city', 'state', 'zipcode',\n",
    "'job_id', 'courses_count', 'career_path_id',\n",
    "'hours_spent']\n",
    "\n",
    "In order to create a more managable and faster resulting dataframe, they will be split in the following way:\n",
    "\n",
    "### student_information\n",
    "1. uuid\n",
    "2. name\n",
    "3. job_id\n",
    "4. career_path_id\n",
    "\n",
    "### student_details\n",
    "1. uuid\n",
    "2. birthdate\n",
    "3. birth_year\n",
    "4. sex\n",
    "\n",
    "### student_studies\n",
    "1. uuid\n",
    "2. courses_count\n",
    "3. hours_spent\n",
    "\n",
    "### student_contact\n",
    "1. uuid\n",
    "2. email_address\n",
    "3. street\n",
    "4. city\n",
    "5. state\n",
    "6. zipcode\n",
    "\n",
    "Along the course_df and job_df. The missing_information dataframe will be fully joined and uploaded in a separate table."
   ]
  },
  {
   "cell_type": "code",
   "execution_count": 28,
   "id": "fd4a676c",
   "metadata": {},
   "outputs": [
    {
     "name": "stdout",
     "output_type": "stream",
     "text": [
      "[('student_information',), ('student_details',), ('student_studies',), ('student_contact',), ('job_info',), ('missing_data_entries',), ('course_info',)]\n"
     ]
    }
   ],
   "source": [
    "# Create the tables in the new database for each dataframe\n",
    "con = sqlite3.connect(os.path.join('dev','cademycode_updated.db'))\n",
    "cur = con.cursor()\n",
    "\n",
    "# Student information\n",
    "cur.execute('''CREATE TABLE IF NOT EXISTS student_information (\n",
    "                uuid  INTEGER,\n",
    "                name TEXT,\n",
    "                job_id INTEGER,\n",
    "                career_path_id INTEGER,\n",
    "                timestamp TEXT)''')\n",
    "# Student details\n",
    "cur.execute('''CREATE TABLE IF NOT EXISTS student_details (\n",
    "                uuid INTEGER,\n",
    "                birthdate TEXT,\n",
    "                birth_year INTEGER,\n",
    "                sex VARCHAR(1))''')\n",
    "# Student studies\n",
    "cur.execute('''CREATE TABLE IF NOT EXISTS student_studies (\n",
    "                uuid INTEGER,\n",
    "                courses_count INTEGER,\n",
    "                hours_spent REAL)''')\n",
    "# Student contact\n",
    "cur.execute('''CREATE TABLE IF NOT EXISTS student_contact(\n",
    "                uuid INTEGER,\n",
    "                email_address TEXT,\n",
    "                street TEXT,\n",
    "                city TEXT,\n",
    "                state TEXT,\n",
    "                zipcode INTEGER)''')\n",
    "# Course information\n",
    "cur.execute('''CREATE TABLE IF NOT EXISTS course_info (\n",
    "                career_path_id INTEGER,\n",
    "                career_path_name TEXT,\n",
    "                hours_to_complete INTEGER)''')\n",
    "# Job information\n",
    "cur.execute('''CREATE TABLE IF NOT EXISTS job_info (\n",
    "                job_id INTEGER,\n",
    "                job_category TEXT,\n",
    "                avg_salary INTEGER)''')\n",
    "# Missing information \n",
    "cur.execute('''CREATE TABLE IF NOT EXISTS missing_data_entries (\n",
    "                uuid INTEGER,\n",
    "                name TEXT,\n",
    "                birthdate TEXT,\n",
    "                birth_year INTEGER,\n",
    "                sex VARCHAR(1),\n",
    "                email_address TEXT,\n",
    "                street TEXT,\n",
    "                city TEXT,\n",
    "                state TEXT,\n",
    "                zipcode INTEGER,\n",
    "                job_id INTEGER,\n",
    "                courses_count INTEGER,\n",
    "                career_path_id INTEGER,\n",
    "                hours_spent REAL,\n",
    "                timestamp TEXT)''')\n",
    "# Confirm tables were created\n",
    "print(cur.execute('''SELECT name FROM sqlite_master''').fetchall())\n",
    "# Commit changes\n",
    "con.commit()\n",
    "# Close connection\n",
    "cur.close()\n",
    "con.close()"
   ]
  },
  {
   "cell_type": "code",
   "execution_count": 29,
   "id": "8866eb2b",
   "metadata": {},
   "outputs": [],
   "source": [
    "mode = 'overwrite'\n",
    "jdbc_url = 'jdbc:sqlite:dev/cademycode_updated.db'"
   ]
  },
  {
   "cell_type": "code",
   "execution_count": 30,
   "id": "0e9418eb",
   "metadata": {
    "scrolled": true
   },
   "outputs": [],
   "source": [
    "student_df = student_df.withColumn('loaded_on_date',f.current_timestamp())\n",
    "\n",
    "student_df.select(*['uuid', 'name', 'job_id', 'career_path_id', 'loaded_on_date']) \\\n",
    "                    .write.jdbc(url=jdbc_url, mode=mode, table='student_information')"
   ]
  },
  {
   "cell_type": "code",
   "execution_count": 31,
   "id": "8bb76fab",
   "metadata": {},
   "outputs": [],
   "source": [
    "student_df.select(*['uuid','birthdate','birth_year','sex'])\\\n",
    "                .write.jdbc(url=jdbc_url, mode=mode, table='student_details')"
   ]
  },
  {
   "cell_type": "code",
   "execution_count": 32,
   "id": "4b3ffb74",
   "metadata": {},
   "outputs": [],
   "source": [
    "student_df.select(*['uuid','courses_count','hours_spent'])\\\n",
    "                .write.jdbc(url=jdbc_url, mode=mode, table='student_studies')"
   ]
  },
  {
   "cell_type": "code",
   "execution_count": 33,
   "id": "05186984",
   "metadata": {},
   "outputs": [],
   "source": [
    "student_df.select(*['uuid','email_address','street','city','state','zipcode'])\\\n",
    "                .write.jdbc(url=jdbc_url, mode=mode, table='student_contact')"
   ]
  },
  {
   "cell_type": "code",
   "execution_count": 61,
   "id": "fdc805af",
   "metadata": {},
   "outputs": [
    {
     "data": {
      "text/plain": [
       "<pyspark.sql.readwriter.DataFrameWriter at 0x1fc608b28c8>"
      ]
     },
     "execution_count": 61,
     "metadata": {},
     "output_type": "execute_result"
    }
   ],
   "source": [
    "course_df.select(*course_columns)\\\n",
    "            .write.format('jdbc').option('url',jdbc_url).option('mode','append').option('dbtable','course_info')"
   ]
  },
  {
   "cell_type": "code",
   "execution_count": null,
   "id": "f7e2c1a6",
   "metadata": {},
   "outputs": [],
   "source": [
    "job_df.select(*job_columns)\\\n",
    "                .write.jdbc(url=jdbc_url, mode=mode, table='job_info')"
   ]
  },
  {
   "cell_type": "code",
   "execution_count": null,
   "id": "b9d65aa8",
   "metadata": {},
   "outputs": [],
   "source": [
    "student_df_missing_info.select(*sorted_columns)\\\n",
    "                    .withColumn('loaded_on_date',f.current_timestamp()) \\\n",
    "                    .write.jdbc(url=jdbc_url, mode=mode, table='missing_data_entries')"
   ]
  },
  {
   "cell_type": "code",
   "execution_count": null,
   "id": "d7bba7c0",
   "metadata": {},
   "outputs": [],
   "source": []
  }
 ],
 "metadata": {
  "kernelspec": {
   "display_name": "PythonData",
   "language": "python",
   "name": "python3"
  },
  "language_info": {
   "codemirror_mode": {
    "name": "ipython",
    "version": 3
   },
   "file_extension": ".py",
   "mimetype": "text/x-python",
   "name": "python",
   "nbconvert_exporter": "python",
   "pygments_lexer": "ipython3",
   "version": "3.7.13"
  },
  "vscode": {
   "interpreter": {
    "hash": "0d0ec40f152984f41744837ae656c16fc129c0d53ffa77de298628f462c3245b"
   }
  }
 },
 "nbformat": 4,
 "nbformat_minor": 5
}
