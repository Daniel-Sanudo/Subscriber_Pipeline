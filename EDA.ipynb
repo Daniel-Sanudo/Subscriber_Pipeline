{
 "cells": [
  {
   "cell_type": "code",
   "execution_count": 1,
   "id": "4b142196",
   "metadata": {},
   "outputs": [],
   "source": [
    "import sqlite3\n",
    "import os\n",
    "import pandas as pd\n",
    "from pyspark.sql import SparkSession\n",
    "import pyspark.sql.functions as f"
   ]
  },
  {
   "cell_type": "code",
   "execution_count": 2,
   "id": "1e883946",
   "metadata": {},
   "outputs": [],
   "source": [
    "# Create connection to the database file and the cursor to manage it \n",
    "con = sqlite3.connect(os.path.join('dev','cademycode.db'))\n",
    "cur = con.cursor()"
   ]
  },
  {
   "cell_type": "code",
   "execution_count": 3,
   "id": "3b545e88",
   "metadata": {},
   "outputs": [
    {
     "name": "stdout",
     "output_type": "stream",
     "text": [
      "[('cademycode_students',), ('cademycode_courses',), ('cademycode_student_jobs',)]\n"
     ]
    }
   ],
   "source": [
    "# Store the table names from the database\n",
    "table_names = cur.execute('''SELECT name FROM sqlite_master''').fetchall()\n",
    "print(table_names)"
   ]
  },
  {
   "cell_type": "code",
   "execution_count": 4,
   "id": "e21d216e",
   "metadata": {},
   "outputs": [],
   "source": [
    "# Create spark session\n",
    "spark = SparkSession.builder.appName('EDA').getOrCreate()"
   ]
  },
  {
   "cell_type": "code",
   "execution_count": 5,
   "id": "25e5f98b",
   "metadata": {
    "scrolled": true
   },
   "outputs": [
    {
     "name": "stdout",
     "output_type": "stream",
     "text": [
      "+---+--------------------+----------+---+--------------------+---+----+----+-----+\n",
      "| _1|                  _2|        _3| _4|                  _5| _6|  _7|  _8|   _9|\n",
      "+---+--------------------+----------+---+--------------------+---+----+----+-----+\n",
      "|  1|     Annabelle Avery|1943-07-03|  F|{\"mailing_address...|7.0| 6.0| 1.0| 4.99|\n",
      "|  2|         Micah Rubio|1991-02-07|  M|{\"mailing_address...|7.0| 5.0| 8.0|  4.4|\n",
      "|  3|          Hosea Dale|1989-12-07|  M|{\"mailing_address...|7.0| 8.0| 8.0| 6.74|\n",
      "|  4|        Mariann Kirk|1988-07-31|  F|{\"mailing_address...|6.0| 7.0| 9.0|12.31|\n",
      "|  5|     Lucio Alexander|1963-08-31|  M|{\"mailing_address...|7.0|14.0| 3.0| 5.64|\n",
      "|  6|    Shavonda Mcmahon|1989-10-15|  F|{\"mailing_address...|6.0|10.0| 3.0|10.12|\n",
      "|  7| Terrell Bleijenberg|1959-05-05|  M|{\"mailing_address...|2.0| 9.0| 8.0|24.17|\n",
      "|  8|      Stanford Allan|1997-11-22|  M|{\"mailing_address...|3.0| 3.0| 1.0|19.54|\n",
      "|  9|     Tricia Delacruz|1961-10-20|  F|{\"mailing_address...|1.0| 6.0| 9.0| 1.75|\n",
      "| 10|Regenia van der Helm|1999-02-23|  N|{\"mailing_address...|5.0| 7.0| 6.0|13.55|\n",
      "| 11|    Shonda Stephanin|1998-10-24|  F|{\"mailing_address...|7.0| 5.0|10.0|12.61|\n",
      "| 12|    Marcus Mcfarland|1977-05-29|  M|{\"mailing_address...|7.0| 3.0| 6.0| 9.12|\n",
      "| 13|   Edwardo Boonzayer|1975-05-23|  N|{\"mailing_address...|2.0|15.0| 5.0| 6.09|\n",
      "| 14|      Robena Padilla|1969-01-15|  F|{\"mailing_address...|3.0| 5.0| 9.0|15.92|\n",
      "| 15|        Tamala Sears|1942-06-01|  F|{\"mailing_address...|7.0|13.0| 1.0| 4.64|\n",
      "| 16|       Norene Dalton|1976-04-30|  F|{\"mailing_address...|6.0| 0.0|null| null|\n",
      "| 17|      Maris Benskoop|1965-08-10|  F|{\"mailing_address...|5.0| 5.0| 4.0|12.08|\n",
      "| 18|    Yolande van Hees|1978-12-09|  F|{\"mailing_address...|7.0|13.0| 9.0|34.44|\n",
      "| 19|      Dominic Werner|1973-09-29|  M|{\"mailing_address...|5.0|14.0| 8.0|22.84|\n",
      "| 20|Sofia van Steenbe...|1990-02-21|  N|{\"mailing_address...|7.0|13.0|null| null|\n",
      "+---+--------------------+----------+---+--------------------+---+----+----+-----+\n",
      "only showing top 20 rows\n",
      "\n",
      "[('_1', 'bigint'), ('_2', 'string'), ('_3', 'string'), ('_4', 'string'), ('_5', 'string'), ('_6', 'string'), ('_7', 'string'), ('_8', 'string'), ('_9', 'string')]\n"
     ]
    }
   ],
   "source": [
    "student_df = spark.createDataFrame(cur.execute('''SELECT * FROM cademycode_students''').fetchall())\n",
    "student_df.show()\n",
    "print(student_df.dtypes)"
   ]
  },
  {
   "cell_type": "code",
   "execution_count": 51,
   "id": "2f3793da",
   "metadata": {},
   "outputs": [
    {
     "data": {
      "text/plain": [
       "[Row(_5='{\"mailing_address\": \"303 N Timber Key, Irondale, Wisconsin, 84736\", \"email\": \"annabelle_avery9376@woohoo.com\"}'),\n",
       " Row(_5='{\"mailing_address\": \"767 Crescent Fair, Shoals, Indiana, 37439\", \"email\": \"rubio6772@hmail.com\"}'),\n",
       " Row(_5='{\"mailing_address\": \"P.O. Box 41269, St. Bonaventure, Virginia, 83637\", \"email\": \"hosea_dale8084@coldmail.com\"}'),\n",
       " Row(_5='{\"mailing_address\": \"517 SE Wintergreen Isle, Lane, Arkansas, 82242\", \"email\": \"kirk4005@hmail.com\"}'),\n",
       " Row(_5='{\"mailing_address\": \"18 Cinder Cliff, Doyles borough, Rhode Island, 73737\", \"email\": \"alexander9810@hmail.com\"}')]"
      ]
     },
     "execution_count": 51,
     "metadata": {},
     "output_type": "execute_result"
    }
   ],
   "source": [
    "student_df.select('_5').take(5)"
   ]
  },
  {
   "cell_type": "code",
   "execution_count": 6,
   "id": "8f631f2c",
   "metadata": {},
   "outputs": [
    {
     "name": "stdout",
     "output_type": "stream",
     "text": [
      "+---+--------------------+---+\n",
      "| _1|                  _2| _3|\n",
      "+---+--------------------+---+\n",
      "|  1|      data scientist| 20|\n",
      "|  2|       data engineer| 20|\n",
      "|  3|        data analyst| 12|\n",
      "|  4|software engineering| 25|\n",
      "|  5|    backend engineer| 18|\n",
      "|  6|   frontend engineer| 20|\n",
      "|  7|       iOS developer| 27|\n",
      "|  8|   android developer| 27|\n",
      "|  9|machine learning ...| 35|\n",
      "| 10|      ux/ui designer| 15|\n",
      "+---+--------------------+---+\n",
      "\n",
      "[('_1', 'bigint'), ('_2', 'string'), ('_3', 'bigint')]\n"
     ]
    }
   ],
   "source": [
    "course_df = spark.createDataFrame(cur.execute('''SELECT * FROM cademycode_courses''').fetchall())\n",
    "course_df.show()\n",
    "print(course_df.dtypes)"
   ]
  },
  {
   "cell_type": "code",
   "execution_count": 7,
   "id": "b94ba4bc",
   "metadata": {
    "scrolled": true
   },
   "outputs": [
    {
     "name": "stdout",
     "output_type": "stream",
     "text": [
      "+---+------------------+------+\n",
      "| _1|                _2|    _3|\n",
      "+---+------------------+------+\n",
      "|  1|         analytics| 86000|\n",
      "|  2|          engineer|101000|\n",
      "|  3|software developer|110000|\n",
      "|  4|          creative| 66000|\n",
      "|  5|financial services|135000|\n",
      "|  6|         education| 61000|\n",
      "|  7|                HR| 80000|\n",
      "|  8|           student| 10000|\n",
      "|  9|        healthcare|120000|\n",
      "|  0|             other| 80000|\n",
      "|  3|software developer|110000|\n",
      "|  4|          creative| 66000|\n",
      "|  5|financial services|135000|\n",
      "+---+------------------+------+\n",
      "\n",
      "[('_1', 'bigint'), ('_2', 'string'), ('_3', 'bigint')]\n"
     ]
    }
   ],
   "source": [
    "job_df = spark.createDataFrame(cur.execute('''SELECT * FROM cademycode_student_jobs''').fetchall())\n",
    "job_df.show()\n",
    "print(job_df.dtypes)"
   ]
  },
  {
   "cell_type": "markdown",
   "id": "d6398be4",
   "metadata": {},
   "source": [
    "The following steps will be needed to clean the data\n",
    "1. Rename the columns from _n format to a proper name in all dataframes\n",
    "2. Extract the email and address for each student stores inside the _5 column dictionaries \n",
    "3. Change dtype for the student_df dataframe to the following:\n",
    "    * _3 which is a date type format to a datetime dtype\n",
    "    * Columns going from _6 to _9 from string to float\n",
    "4. Remove duplicates from all dataframes"
   ]
  },
  {
   "cell_type": "code",
   "execution_count": 61,
   "id": "60e2a67f",
   "metadata": {},
   "outputs": [
    {
     "name": "stdout",
     "output_type": "stream",
     "text": [
      "+--------------------+--------------------+\n",
      "|     mailing_address|       email_address|\n",
      "+--------------------+--------------------+\n",
      "|303 N Timber Key,...|annabelle_avery93...|\n",
      "|767 Crescent Fair...| rubio6772@hmail.com|\n",
      "|P.O. Box 41269, S...|hosea_dale8084@co...|\n",
      "|517 SE Wintergree...|  kirk4005@hmail.com|\n",
      "|18 Cinder Cliff, ...|alexander9810@hma...|\n",
      "|P.O. Box 81591, T...|shavonda5863@cold...|\n",
      "|P.O. Box 53471, O...|bleijenberg188@hm...|\n",
      "|255 Spring Avenue...|stanford_allan805...|\n",
      "|997 Dewy Apple, L...|tricia_delacruz66...|\n",
      "|220 Middle Ridge,...|regenia6908@inloo...|\n",
      "|818 Clear Street,...|shonda_stephanin4...|\n",
      "|718 Embers Lane, ...|mcfarland1396@woo...|\n",
      "|147 SW Plain, Sol...|edwardo8281@inloo...|\n",
      "|P.O. Box 73926, M...|robena_padilla147...|\n",
      "|868 Hazy Crossing...|tamala4408@woohoo...|\n",
      "|130 Wishing Essex...|norene_dalton9509...|\n",
      "|P.O. Box 93831, S...| maris5817@hmail.com|\n",
      "|460 Dusty Kennedy...|vanhees6330@wooho...|\n",
      "|P.O. Box 70430, L...|werner3867@coldma...|\n",
      "|634 Clear Barn De...|vansteenbergen848...|\n",
      "+--------------------+--------------------+\n",
      "only showing top 20 rows\n",
      "\n"
     ]
    }
   ],
   "source": [
    "student_df.select(f.get_json_object(student_df._5, '$.mailing_address').alias(\"mailing_address\"),\n",
    "                 f.get_json_object(student_df._5, '$.email').alias(\"email_address\")).show()"
   ]
  },
  {
   "cell_type": "code",
   "execution_count": null,
   "id": "53e26ae5",
   "metadata": {},
   "outputs": [],
   "source": []
  }
 ],
 "metadata": {
  "kernelspec": {
   "display_name": "PythonData",
   "language": "python",
   "name": "pythondata"
  },
  "language_info": {
   "codemirror_mode": {
    "name": "ipython",
    "version": 3
   },
   "file_extension": ".py",
   "mimetype": "text/x-python",
   "name": "python",
   "nbconvert_exporter": "python",
   "pygments_lexer": "ipython3",
   "version": "3.7.13"
  }
 },
 "nbformat": 4,
 "nbformat_minor": 5
}
